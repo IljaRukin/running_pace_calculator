{
 "cells": [
  {
   "cell_type": "code",
   "execution_count": 2,
   "metadata": {},
   "outputs": [
    {
     "name": "stdout",
     "output_type": "stream",
     "text": [
      "pace:  4 : 15.95 min/km\n",
      "pace:  6 : 51.91 min/mile\n",
      "----------\n",
      "distance hours minutes seconds\n",
      "5  ->  0 : 21 : 19.75\n",
      "10  ->  0 : 42 : 39.5\n",
      "21.0975  ->  1 : 29 : 59.91\n",
      "42.195  ->  2 : 59 : 59.81\n"
     ]
    }
   ],
   "source": [
    "#running pace calculator\n",
    "pace = '4:15.95'\n",
    "pace = pace.split(':')\n",
    "secs = 60*float(pace[0]) + float(pace[1])\n",
    "distances = [5,10,21.0975,42.195]\n",
    "\n",
    "m = secs//60\n",
    "s = secs -m*60\n",
    "print('pace: ',round(m),':',round(s,2),'min/km')\n",
    "\n",
    "mile = 1.609344\n",
    "m = secs*mile//60\n",
    "s = secs*mile -m*60\n",
    "print('pace: ',round(m),':',round(s,2),'min/mile')\n",
    "\n",
    "print('----------')\n",
    "\n",
    "print('distance hours minutes seconds')\n",
    "for d in distances:\n",
    "    time = d*secs\n",
    "    h = time//3600\n",
    "    time -= h*3600\n",
    "    m = time//60\n",
    "    time -= m*60\n",
    "    s = time\n",
    "    print(d,' -> ',round(h),':',round(m),':',round(s,2))"
   ]
  },
  {
   "cell_type": "code",
   "execution_count": null,
   "metadata": {},
   "outputs": [],
   "source": []
  }
 ],
 "metadata": {
  "kernelspec": {
   "display_name": "Python 3",
   "language": "python",
   "name": "python3"
  },
  "language_info": {
   "codemirror_mode": {
    "name": "ipython",
    "version": 3
   },
   "file_extension": ".py",
   "mimetype": "text/x-python",
   "name": "python",
   "nbconvert_exporter": "python",
   "pygments_lexer": "ipython3",
   "version": "3.9.0"
  }
 },
 "nbformat": 4,
 "nbformat_minor": 4
}
